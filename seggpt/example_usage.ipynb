{
 "cells": [
  {
   "cell_type": "code",
   "execution_count": null,
   "metadata": {},
   "outputs": [],
   "source": [
    "import seggpt_inference"
   ]
  },
  {
   "cell_type": "code",
   "execution_count": null,
   "metadata": {},
   "outputs": [],
   "source": [
    "from PIL import Image\n",
    "import numpy as np\n",
    "import matplotlib.pyplot as plt"
   ]
  },
  {
   "cell_type": "code",
   "execution_count": null,
   "metadata": {},
   "outputs": [],
   "source": [
    "prompt_mask= Image.open(\"./3-2.png\")"
   ]
  },
  {
   "cell_type": "code",
   "execution_count": null,
   "metadata": {},
   "outputs": [],
   "source": [
    "prompt_mask"
   ]
  },
  {
   "cell_type": "code",
   "execution_count": null,
   "metadata": {},
   "outputs": [],
   "source": [
    "prompt_image = Image.open(\"./3.png\")"
   ]
  },
  {
   "cell_type": "code",
   "execution_count": null,
   "metadata": {},
   "outputs": [],
   "source": [
    "prompt_image"
   ]
  },
  {
   "cell_type": "code",
   "execution_count": null,
   "metadata": {},
   "outputs": [],
   "source": [
    "test_image = Image.open(\"./5-2.png\")"
   ]
  },
  {
   "cell_type": "code",
   "execution_count": null,
   "metadata": {},
   "outputs": [],
   "source": [
    "test_image"
   ]
  },
  {
   "cell_type": "code",
   "execution_count": null,
   "metadata": {},
   "outputs": [],
   "source": [
    "prompt_mask = np.array(prompt_mask)"
   ]
  },
  {
   "cell_type": "code",
   "execution_count": null,
   "metadata": {},
   "outputs": [],
   "source": [
    "def find_unique_colors(image_array):\n",
    "    # Reshape the image to a 2D array of pixels\n",
    "    pixels = image_array.reshape(-1, 3)\n",
    "\n",
    "    # Find unique colors using numpy\n",
    "    unique_colors = np.unique(pixels, axis=0)\n",
    "\n",
    "    return unique_colors"
   ]
  },
  {
   "cell_type": "code",
   "execution_count": null,
   "metadata": {},
   "outputs": [],
   "source": [
    "def get_color_mask(image, target_color, tolerance=50):\n",
    "    # Convert target color to numpy array\n",
    "    target_color = np.array(target_color)\n",
    "\n",
    "    # Convert image to numpy array\n",
    "    image_array = np.array(image)\n",
    "\n",
    "    # Calculate the color distance between each pixel and the target color\n",
    "    color_distance = np.abs(image_array - target_color)\n",
    "\n",
    "    # Sum the color distance along the RGB channels\n",
    "    color_distance_sum = np.sum(color_distance, axis=2)\n",
    "\n",
    "    # Create a binary mask where pixels with small color distances are True\n",
    "    mask = color_distance_sum <= tolerance\n",
    "\n",
    "    return mask"
   ]
  },
  {
   "cell_type": "code",
   "execution_count": null,
   "metadata": {},
   "outputs": [],
   "source": [
    "colors = find_unique_colors(prompt_mask)"
   ]
  },
  {
   "cell_type": "code",
   "execution_count": null,
   "metadata": {},
   "outputs": [],
   "source": [
    "mask1 = get_color_mask(prompt_mask,colors[0])"
   ]
  },
  {
   "cell_type": "code",
   "execution_count": null,
   "metadata": {},
   "outputs": [],
   "source": [
    "mask2 = get_color_mask(prompt_mask,colors[-1])"
   ]
  },
  {
   "cell_type": "code",
   "execution_count": null,
   "metadata": {},
   "outputs": [],
   "source": [
    "mask3 = get_color_mask(prompt_mask,colors[-2])"
   ]
  },
  {
   "cell_type": "code",
   "execution_count": null,
   "metadata": {},
   "outputs": [],
   "source": [
    "mask4 = get_color_mask(prompt_mask,colors[-3])"
   ]
  },
  {
   "cell_type": "code",
   "execution_count": null,
   "metadata": {},
   "outputs": [],
   "source": [
    "mask5 = get_color_mask(prompt_mask,colors[-90])"
   ]
  },
  {
   "cell_type": "code",
   "execution_count": null,
   "metadata": {},
   "outputs": [],
   "source": [
    "final_mask = np.zeros((prompt_mask.shape[0],prompt_mask.shape[1]))\n",
    "final_mask[mask1] = 0\n",
    "final_mask[mask2] = 1\n",
    "final_mask[mask3] = 2\n",
    "final_mask[mask4] = 3\n",
    "final_mask[mask5] = 4"
   ]
  },
  {
   "cell_type": "code",
   "execution_count": null,
   "metadata": {},
   "outputs": [],
   "source": [
    "plt.imshow(final_mask)"
   ]
  },
  {
   "cell_type": "code",
   "execution_count": null,
   "metadata": {},
   "outputs": [],
   "source": [
    "def convert_segmentation_to_rgb(segmentation, category_colors):\n",
    "    \"\"\"Converts Mask where each entry is a unique integer corresponding \n",
    "    to class to the correct format\"\"\"\n",
    "    height, width = segmentation.shape[:2]\n",
    "    rgb_mask = np.zeros((height, width, 3), dtype=np.uint8)\n",
    "\n",
    "    for category, color in category_colors.items():\n",
    "        mask = segmentation == category\n",
    "        rgb_mask[mask] = color\n",
    "\n",
    "    return rgb_mask"
   ]
  },
  {
   "cell_type": "code",
   "execution_count": null,
   "metadata": {},
   "outputs": [],
   "source": [
    "out_mask,_ = seggpt_inference.predict(prompt_image,final_mask,test_image,threshold = 50)"
   ]
  },
  {
   "cell_type": "code",
   "execution_count": null,
   "metadata": {},
   "outputs": [],
   "source": [
    "plt.imshow(out_mask)"
   ]
  },
  {
   "cell_type": "code",
   "execution_count": null,
   "metadata": {},
   "outputs": [],
   "source": [
    "np.unique(out_mask)"
   ]
  }
 ],
 "metadata": {
  "kernelspec": {
   "display_name": "SegGPT",
   "language": "python",
   "name": "python3"
  },
  "language_info": {
   "codemirror_mode": {
    "name": "ipython",
    "version": 3
   },
   "file_extension": ".py",
   "mimetype": "text/x-python",
   "name": "python",
   "nbconvert_exporter": "python",
   "pygments_lexer": "ipython3",
   "version": "3.10.10"
  },
  "orig_nbformat": 4
 },
 "nbformat": 4,
 "nbformat_minor": 2
}
