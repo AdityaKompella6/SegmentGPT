{
 "cells": [
  {
   "cell_type": "code",
   "execution_count": null,
   "metadata": {},
   "outputs": [],
   "source": [
    "import requests\n",
    "import json\n",
    "from io import BytesIO\n",
    "from PIL import Image\n",
    "import numpy as np\n",
    "import cv2"
   ]
  },
  {
   "cell_type": "code",
   "execution_count": null,
   "metadata": {},
   "outputs": [],
   "source": [
    "def generate_equally_spaced_colors(k):\n",
    "    colors = []\n",
    "    step = 360 / k  # Equally spaced hue step\n",
    "\n",
    "    for i in range(k):\n",
    "        hue = i * step  # Equally spaced hue values\n",
    "        rgb = hsv_to_rgb(hue, 1, 1)  # Convert hue to RGB values\n",
    "        scaled_rgb = tuple(\n",
    "            int(val * 255) for val in rgb\n",
    "        )  # Scale RGB values to 0-255 range\n",
    "        colors.append(scaled_rgb)\n",
    "\n",
    "    return colors\n",
    "\n",
    "\n",
    "def hsv_to_rgb(h, s, v):\n",
    "    c = v * s\n",
    "    x = c * (1 - abs((h / 60) % 2 - 1))\n",
    "    m = v - c\n",
    "\n",
    "    if 0 <= h < 60:\n",
    "        rgb = (c, x, 0)\n",
    "    elif 60 <= h < 120:\n",
    "        rgb = (x, c, 0)\n",
    "    elif 120 <= h < 180:\n",
    "        rgb = (0, c, x)\n",
    "    elif 180 <= h < 240:\n",
    "        rgb = (0, x, c)\n",
    "    elif 240 <= h < 300:\n",
    "        rgb = (x, 0, c)\n",
    "    else:\n",
    "        rgb = (c, 0, x)\n",
    "\n",
    "    return tuple((val + m) for val in rgb)"
   ]
  },
  {
   "cell_type": "code",
   "execution_count": null,
   "metadata": {},
   "outputs": [],
   "source": [
    "with open(\"cat_dog.json\") as f:\n",
    "    data = json.load(f)"
   ]
  },
  {
   "cell_type": "code",
   "execution_count": null,
   "metadata": {},
   "outputs": [],
   "source": [
    "##Get Images that already have segmentation masks\n",
    "for image in data[\"images\"]:\n",
    "    if 'segmentation' in image['tags'][0]:\n",
    "        print(image['id'])"
   ]
  },
  {
   "cell_type": "code",
   "execution_count": null,
   "metadata": {},
   "outputs": [],
   "source": [
    "##Extract first image with segmentation mask\n",
    "for image in data[\"images\"]:\n",
    "    if image['id'] == \"64b7210228151f0007746978\":\n",
    "        break"
   ]
  },
  {
   "cell_type": "code",
   "execution_count": null,
   "metadata": {},
   "outputs": [],
   "source": [
    "len(image['tags'][1]['segmentation'])"
   ]
  },
  {
   "cell_type": "code",
   "execution_count": null,
   "metadata": {},
   "outputs": [],
   "source": [
    "##Get contours for image\n",
    "ext_points = image['tags'][0]['segmentation'][0]['extPoints']\n",
    "int_points = image['tags'][0]['segmentation'][0]['intPoints']"
   ]
  },
  {
   "cell_type": "code",
   "execution_count": null,
   "metadata": {},
   "outputs": [],
   "source": [
    "image['url']"
   ]
  },
  {
   "cell_type": "code",
   "execution_count": null,
   "metadata": {},
   "outputs": [],
   "source": [
    "req = requests.get(\"http://\" + image[\"url\"])\n",
    "img = Image.open(BytesIO(req.content)).convert(\"RGB\")"
   ]
  },
  {
   "cell_type": "code",
   "execution_count": null,
   "metadata": {},
   "outputs": [],
   "source": [
    "img"
   ]
  },
  {
   "cell_type": "code",
   "execution_count": null,
   "metadata": {},
   "outputs": [],
   "source": [
    "import numpy as np\n",
    "from PIL import Image, ImageDraw\n",
    "\n",
    "def generate_binary_mask(exterior_points, interior_points, image_size):\n",
    "    # Create a blank image\n",
    "    image = Image.new('L', image_size, 0)\n",
    "    draw = ImageDraw.Draw(image)\n",
    "\n",
    "    # Draw the exterior contour\n",
    "    draw.polygon(exterior_points, outline=1, fill=1)\n",
    "\n",
    "    # Draw the interior contours\n",
    "    for interior_contour in interior_points:\n",
    "        draw.polygon(interior_contour, outline=0, fill=0)\n",
    "\n",
    "    # Convert the image to a binary mask (numpy array)\n",
    "    binary_mask = np.array(image)\n",
    "\n",
    "    return binary_mask\n"
   ]
  },
  {
   "cell_type": "code",
   "execution_count": null,
   "metadata": {},
   "outputs": [],
   "source": [
    "img.size"
   ]
  },
  {
   "cell_type": "code",
   "execution_count": null,
   "metadata": {},
   "outputs": [],
   "source": [
    "##Format countours in right format\n",
    "int_points = [list(map(tuple,int)) for int in int_points]"
   ]
  },
  {
   "cell_type": "code",
   "execution_count": null,
   "metadata": {},
   "outputs": [],
   "source": [
    "##Format countours in right format\n",
    "ext_points = list(map(tuple,ext_points))"
   ]
  },
  {
   "cell_type": "code",
   "execution_count": null,
   "metadata": {},
   "outputs": [],
   "source": [
    "cat_mask = generate_binary_mask(ext_points,int_points,img.size)"
   ]
  },
  {
   "cell_type": "code",
   "execution_count": null,
   "metadata": {},
   "outputs": [],
   "source": [
    "import matplotlib.pyplot as plt"
   ]
  },
  {
   "cell_type": "code",
   "execution_count": null,
   "metadata": {},
   "outputs": [],
   "source": [
    "plt.imshow(cat_mask)"
   ]
  },
  {
   "cell_type": "code",
   "execution_count": null,
   "metadata": {},
   "outputs": [],
   "source": [
    "##Get contours for image\n",
    "ext_points = image['tags'][1]['segmentation'][9]['extPoints']\n",
    "int_points = image['tags'][1]['segmentation'][9]['intPoints']"
   ]
  },
  {
   "cell_type": "code",
   "execution_count": null,
   "metadata": {},
   "outputs": [],
   "source": [
    "##Format countours in right format\n",
    "int_points = [list(map(tuple,int)) for int in int_points]"
   ]
  },
  {
   "cell_type": "code",
   "execution_count": null,
   "metadata": {},
   "outputs": [],
   "source": [
    "##Format countours in right format\n",
    "ext_points = list(map(tuple,ext_points))"
   ]
  },
  {
   "cell_type": "code",
   "execution_count": null,
   "metadata": {},
   "outputs": [],
   "source": [
    "dog_mask = generate_binary_mask(ext_points,int_points,img.size)"
   ]
  },
  {
   "cell_type": "code",
   "execution_count": null,
   "metadata": {},
   "outputs": [],
   "source": [
    "plt.imshow(dog_mask)"
   ]
  },
  {
   "cell_type": "code",
   "execution_count": null,
   "metadata": {},
   "outputs": [],
   "source": [
    "final_mask = np.zeros_like(dog_mask)\n",
    "indices = np.where(dog_mask == 1)\n",
    "final_mask[indices] = 1\n",
    "indices = np.where(cat_mask == 1)\n",
    "final_mask[indices] = 2"
   ]
  },
  {
   "cell_type": "code",
   "execution_count": null,
   "metadata": {},
   "outputs": [],
   "source": [
    "np.unique(final_mask)"
   ]
  },
  {
   "cell_type": "code",
   "execution_count": null,
   "metadata": {},
   "outputs": [],
   "source": [
    "plt.imshow(final_mask)"
   ]
  },
  {
   "cell_type": "code",
   "execution_count": null,
   "metadata": {},
   "outputs": [],
   "source": [
    "import seggpt_inference"
   ]
  },
  {
   "cell_type": "code",
   "execution_count": null,
   "metadata": {},
   "outputs": [],
   "source": [
    "prompt_mask = final_mask\n",
    "prompt_img = img"
   ]
  },
  {
   "cell_type": "code",
   "execution_count": null,
   "metadata": {},
   "outputs": [],
   "source": [
    "req = requests.get(\"http://\" + data[\"images\"][0][\"url\"])\n",
    "test_image = Image.open(BytesIO(req.content)).convert(\"RGB\")"
   ]
  },
  {
   "cell_type": "code",
   "execution_count": null,
   "metadata": {},
   "outputs": [],
   "source": [
    "out_mask,out_image = seggpt_inference.predict(prompt_img,prompt_mask,test_image,threshold = 80)"
   ]
  },
  {
   "cell_type": "code",
   "execution_count": null,
   "metadata": {},
   "outputs": [],
   "source": [
    "plt.imshow(out_mask)"
   ]
  },
  {
   "cell_type": "code",
   "execution_count": null,
   "metadata": {},
   "outputs": [],
   "source": [
    "plt.imshow(out_image)"
   ]
  },
  {
   "cell_type": "code",
   "execution_count": null,
   "metadata": {},
   "outputs": [],
   "source": [
    "import numpy as np\n",
    "from skimage.measure import label, regionprops\n",
    "\n",
    "def separate_masks(binary_mask, area_threshold):\n",
    "    # Label connected components in the binary mask\n",
    "    labeled_mask = label(binary_mask)\n",
    "    \n",
    "    # Get region properties of each connected component\n",
    "    regions = regionprops(labeled_mask)\n",
    "    \n",
    "    # Initialize an empty list to store individual masks\n",
    "    separate_masks = []\n",
    "    \n",
    "    # Iterate over each region and create a separate binary mask\n",
    "    for region in regions:\n",
    "        # Filter regions based on area threshold\n",
    "        if region.area >= area_threshold:\n",
    "            instance_mask = (labeled_mask == region.label).astype(np.uint8)\n",
    "            separate_masks.append(instance_mask)\n",
    "    \n",
    "    return separate_masks\n"
   ]
  },
  {
   "cell_type": "code",
   "execution_count": null,
   "metadata": {},
   "outputs": [],
   "source": [
    "masks = separate_masks(out_mask,10)"
   ]
  },
  {
   "cell_type": "code",
   "execution_count": null,
   "metadata": {},
   "outputs": [],
   "source": [
    "def combine_masks(masks):\n",
    "    # Initialize an empty array to store the combined mask\n",
    "    combined_mask = np.zeros_like(masks[0])\n",
    "\n",
    "    # Assign unique instance IDs to each mask\n",
    "    for i, mask in enumerate(masks, start=1):\n",
    "        # Find the indices where the mask is True\n",
    "        indices = np.where(mask == 1)\n",
    "\n",
    "        # Assign the instance ID to those indices in the combined mask\n",
    "        combined_mask[indices] = i\n",
    "\n",
    "    return combined_mask"
   ]
  },
  {
   "cell_type": "code",
   "execution_count": null,
   "metadata": {},
   "outputs": [],
   "source": [
    "combined_mask = combine_masks(masks)"
   ]
  },
  {
   "cell_type": "code",
   "execution_count": null,
   "metadata": {},
   "outputs": [],
   "source": [
    "plt.imshow(combined_mask)"
   ]
  },
  {
   "cell_type": "code",
   "execution_count": null,
   "metadata": {},
   "outputs": [],
   "source": [
    "plt.imshow(test_image)"
   ]
  },
  {
   "cell_type": "code",
   "execution_count": null,
   "metadata": {},
   "outputs": [],
   "source": [
    "def show_segmentation_mask(mask, image):\n",
    "    # Create a copy of the original image\n",
    "    overlay = np.array(image.copy())\n",
    "\n",
    "    # Apply the mask as a red overlay on the image\n",
    "    red_overlay = np.zeros_like(overlay)\n",
    "    red_overlay[..., 0] = mask * 255\n",
    "\n",
    "    # Blend the red overlay with the original image\n",
    "    blended = cv2.addWeighted(overlay, 0.7, red_overlay, 0.3, 0)\n",
    "    return blended"
   ]
  },
  {
   "cell_type": "code",
   "execution_count": null,
   "metadata": {},
   "outputs": [],
   "source": [
    "import numpy as np\n",
    "import cv2\n",
    "\n",
    "def overlay_segmentation(image, mask):\n",
    "    # Convert the PIL image to a numpy array\n",
    "    image_array = np.array(image)\n",
    "    num_instances = len(np.unique(mask))\n",
    "    # Create a copy of the image array to draw on\n",
    "    overlay = image_array.copy()\n",
    "\n",
    "    # Define colors for each instance ID\n",
    "    colors = generate_equally_spaced_colors(num_instances)\n",
    "\n",
    "    # Draw each instance in a different color on the overlay image\n",
    "    for instance_id in np.unique(mask):\n",
    "        if instance_id == 0:\n",
    "            continue\n",
    "\n",
    "        # Create a binary mask for the current instance ID\n",
    "        instance_mask = np.where(mask == instance_id, 255, 0).astype(np.uint8)\n",
    "\n",
    "        # Find contours in the binary mask\n",
    "        contours, _ = cv2.findContours(instance_mask, cv2.RETR_EXTERNAL, cv2.CHAIN_APPROX_SIMPLE)\n",
    "\n",
    "        # Draw the contours on the overlay image\n",
    "        cv2.drawContours(overlay, contours, -1, colors[instance_id], thickness=cv2.FILLED)\n",
    "\n",
    "    # Blend the overlay image with the original image\n",
    "    blended_image = cv2.addWeighted(overlay, 0.5, image_array, 0.5, 0)\n",
    "\n",
    "    # Convert the blended image back to PIL format\n",
    "    blended_image_pil = Image.fromarray(blended_image)\n",
    "\n",
    "    return blended_image_pil\n"
   ]
  },
  {
   "cell_type": "code",
   "execution_count": null,
   "metadata": {},
   "outputs": [],
   "source": [
    "final_img = overlay_segmentation(test_image,combined_mask)"
   ]
  },
  {
   "cell_type": "code",
   "execution_count": null,
   "metadata": {},
   "outputs": [],
   "source": [
    "final_img"
   ]
  },
  {
   "cell_type": "code",
   "execution_count": null,
   "metadata": {},
   "outputs": [],
   "source": [
    "##Now lets auto-annotate the rest of the images using the single prompt_img/mask\n",
    "for image in data['images']:\n",
    "    if image['id'] == \"64b7210228151f0007746978\": ##Don't predict your prompt_image\n",
    "        continue \n",
    "    req = requests.get(\"http://\" + image[\"url\"])\n",
    "    test_image = Image.open(BytesIO(req.content)).convert(\"RGB\")\n",
    "    out_mask,out_image = seggpt_inference.predict(prompt_img,prompt_mask,test_image,threshold = 20)\n",
    "    mask_overlay = show_segmentation_mask(out_mask,test_image)\n",
    "    plt.imshow(test_image)\n",
    "    plt.show()\n",
    "    plt.imshow(out_image)\n",
    "    plt.show()\n",
    "    plt.imshow(out_mask)\n",
    "    plt.show()\n",
    "    plt.imshow(mask_overlay)\n",
    "    plt.show()"
   ]
  },
  {
   "cell_type": "code",
   "execution_count": null,
   "metadata": {},
   "outputs": [],
   "source": [
    "##Now lets auto-annotate the rest of the images using the single prompt_img/mask\n",
    "for image in data['images']:\n",
    "    if image['id'] == \"64b7210228151f0007746978\": ##Don't predict your prompt_image\n",
    "        continue \n",
    "    req = requests.get(\"http://\" + image[\"url\"])\n",
    "    test_image = Image.open(BytesIO(req.content)).convert(\"RGB\")\n",
    "    out_mask,out_image = seggpt_inference.predict(prompt_img,prompt_mask,test_image,threshold = 80)\n",
    "    masks = separate_masks(out_mask,30)\n",
    "    if len(masks) > 0:\n",
    "        combined_mask = combine_masks(masks)\n",
    "        mask_overlay = overlay_segmentation(test_image,combined_mask)\n",
    "    else:\n",
    "        mask_overlay = test_image\n",
    "    plt.imshow(test_image)\n",
    "    plt.show()\n",
    "    plt.imshow(out_image)\n",
    "    plt.show()\n",
    "    plt.imshow(out_mask)\n",
    "    plt.show()\n",
    "    plt.imshow(mask_overlay)\n",
    "    plt.show()"
   ]
  },
  {
   "cell_type": "code",
   "execution_count": null,
   "metadata": {},
   "outputs": [],
   "source": [
    "test_image = Image.open(\"2023_Acura_TLX_EVOX.jpg\").convert(\"RGB\")"
   ]
  },
  {
   "cell_type": "code",
   "execution_count": null,
   "metadata": {},
   "outputs": [],
   "source": [
    "out_mask,out_image = seggpt_inference.predict(prompt_img,prompt_mask,test_image,threshold = 120)\n",
    "masks = separate_masks(out_mask,30)\n",
    "if len(masks) > 0:\n",
    "    combined_mask = combine_masks(masks)\n",
    "    mask_overlay = overlay_segmentation(test_image,combined_mask)\n",
    "else:\n",
    "    mask_overlay = test_image"
   ]
  },
  {
   "cell_type": "code",
   "execution_count": null,
   "metadata": {},
   "outputs": [],
   "source": [
    "plt.imshow(mask_overlay)"
   ]
  },
  {
   "cell_type": "code",
   "execution_count": null,
   "metadata": {},
   "outputs": [],
   "source": []
  }
 ],
 "metadata": {
  "kernelspec": {
   "display_name": "SegGPT",
   "language": "python",
   "name": "python3"
  },
  "language_info": {
   "codemirror_mode": {
    "name": "ipython",
    "version": 3
   },
   "file_extension": ".py",
   "mimetype": "text/x-python",
   "name": "python",
   "nbconvert_exporter": "python",
   "pygments_lexer": "ipython3",
   "version": "3.10.10"
  },
  "orig_nbformat": 4
 },
 "nbformat": 4,
 "nbformat_minor": 2
}
